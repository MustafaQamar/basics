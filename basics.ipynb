{
 "cells": [
  {
   "cell_type": "code",
   "execution_count": 1,
   "id": "2d3abe3f",
   "metadata": {},
   "outputs": [
    {
     "name": "stdout",
     "output_type": "stream",
     "text": [
      "hello, world\n"
     ]
    }
   ],
   "source": [
    "print(\"hello, world\")"
   ]
  },
  {
   "cell_type": "markdown",
   "id": "40a81525",
   "metadata": {},
   "source": [
    "# taking inputs:"
   ]
  },
  {
   "cell_type": "code",
   "execution_count": 2,
   "id": "da3062ae",
   "metadata": {},
   "outputs": [
    {
     "name": "stdout",
     "output_type": "stream",
     "text": [
      "enter a number:\n",
      "1\n",
      "enter a float value\n",
      "1.2\n",
      "1 1.2\n"
     ]
    }
   ],
   "source": [
    "x=int(input(\"enter a number:\\n\"))\n",
    "y=float(input(\"enter a float value\\n\"))\n",
    "\n",
    "print(x,y)"
   ]
  },
  {
   "cell_type": "markdown",
   "id": "fab0d9e2",
   "metadata": {},
   "source": [
    "# taking input and checking the type"
   ]
  },
  {
   "cell_type": "code",
   "execution_count": 5,
   "id": "98ce21d4",
   "metadata": {},
   "outputs": [
    {
     "name": "stdout",
     "output_type": "stream",
     "text": [
      "Enter number :123\n",
      "123\n",
      "Enter name : mustafa\n",
      "mustafa\n",
      "type of number <class 'int'>\n",
      "type of name <class 'str'>\n"
     ]
    }
   ],
   "source": [
    "num = int(input (\"Enter number :\"))\n",
    "print(num)\n",
    "name1 = input(\"Enter name : \")\n",
    "print(name1)\n",
    " \n",
    "print (\"type of number\", type(num))\n",
    "print (\"type of name\", type(name1))"
   ]
  },
  {
   "cell_type": "markdown",
   "id": "584c18b1",
   "metadata": {},
   "source": [
    "# if/else statements"
   ]
  },
  {
   "cell_type": "code",
   "execution_count": 12,
   "id": "41979930",
   "metadata": {},
   "outputs": [
    {
     "name": "stdout",
     "output_type": "stream",
     "text": [
      "I am Not in if\n"
     ]
    }
   ],
   "source": [
    "\n",
    "i = 10\n",
    " \n",
    "if (i > 15):\n",
    "    print(\"10 is less than 15\")\n",
    "\n",
    "print(\"I am Not in if\")"
   ]
  },
  {
   "cell_type": "code",
   "execution_count": 13,
   "id": "b40befc6",
   "metadata": {},
   "outputs": [
    {
     "name": "stdout",
     "output_type": "stream",
     "text": [
      "i is greater than 15\n",
      "i'm in else Block\n",
      "i'm not in if and not in else Block\n"
     ]
    }
   ],
   "source": [
    "i = 20\n",
    "if (i < 15):\n",
    "    print(\"i is smaller than 15\")\n",
    "    print(\"else\")\n",
    "else:\n",
    "    print(\"i is greater than 15\")\n",
    "    print(\"else\")\n",
    "print(\"i'm not in if and not in else Block\")"
   ]
  },
  {
   "cell_type": "markdown",
   "id": "a6b638ac",
   "metadata": {},
   "source": [
    "# string\n"
   ]
  },
  {
   "cell_type": "code",
   "execution_count": 14,
   "id": "200e2d6f",
   "metadata": {},
   "outputs": [
    {
     "name": "stdout",
     "output_type": "stream",
     "text": [
      "The original string is : University Of Central Pubjab\n",
      "The number of words in string are : 4\n"
     ]
    }
   ],
   "source": [
    "test_string = \"University Of Central Pubjab\"\n",
    "  \n",
    "# printing original string\n",
    "print (\"The original string is : \" +  test_string)\n",
    "\n",
    "res = len(test_string.split())\n",
    "\n",
    "print (\"The number of words in string are : \" +  str(res))"
   ]
  },
  {
   "cell_type": "markdown",
   "id": "29b57283",
   "metadata": {},
   "source": [
    "# for upper and lower case in string\n"
   ]
  },
  {
   "cell_type": "code",
   "execution_count": 15,
   "id": "c4b5e835",
   "metadata": {},
   "outputs": [
    {
     "data": {
      "text/plain": [
       "<function str.lower()>"
      ]
     },
     "execution_count": 15,
     "metadata": {},
     "output_type": "execute_result"
    }
   ],
   "source": [
    "test_string.lower"
   ]
  },
  {
   "cell_type": "code",
   "execution_count": 21,
   "id": "c548e2c6",
   "metadata": {},
   "outputs": [
    {
     "name": "stdout",
     "output_type": "stream",
     "text": [
      "UNIVERSITY OF CENTRAL PUNJAB\n"
     ]
    }
   ],
   "source": [
    "test=\"university of central punjab\"\n",
    "uppercase=test.upper()\n",
    "print(uppercase)"
   ]
  },
  {
   "cell_type": "code",
   "execution_count": 23,
   "id": "56cc2ff7",
   "metadata": {},
   "outputs": [
    {
     "name": "stdout",
     "output_type": "stream",
     "text": [
      "university of central punjab\n"
     ]
    }
   ],
   "source": [
    "test=\"university of central punjab\"\n",
    "lowercase=test.lower()\n",
    "print(lowercase)"
   ]
  },
  {
   "cell_type": "code",
   "execution_count": null,
   "id": "e1649f31",
   "metadata": {},
   "outputs": [],
   "source": []
  }
 ],
 "metadata": {
  "kernelspec": {
   "display_name": "Python 3 (ipykernel)",
   "language": "python",
   "name": "python3"
  },
  "language_info": {
   "codemirror_mode": {
    "name": "ipython",
    "version": 3
   },
   "file_extension": ".py",
   "mimetype": "text/x-python",
   "name": "python",
   "nbconvert_exporter": "python",
   "pygments_lexer": "ipython3",
   "version": "3.9.7"
  }
 },
 "nbformat": 4,
 "nbformat_minor": 5
}
